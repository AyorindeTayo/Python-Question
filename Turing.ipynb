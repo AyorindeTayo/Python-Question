{
  "nbformat": 4,
  "nbformat_minor": 0,
  "metadata": {
    "colab": {
      "name": "Turing.ipynb",
      "provenance": [],
      "authorship_tag": "ABX9TyNdwHM5OTOoE7W4FrR4vHFw",
      "include_colab_link": true
    },
    "kernelspec": {
      "name": "python3",
      "display_name": "Python 3"
    },
    "language_info": {
      "name": "python"
    }
  },
  "cells": [
    {
      "cell_type": "markdown",
      "metadata": {
        "id": "view-in-github",
        "colab_type": "text"
      },
      "source": [
        "<a href=\"https://colab.research.google.com/github/AyorindeTayo/Python-Question/blob/main/Turing.ipynb\" target=\"_parent\"><img src=\"https://colab.research.google.com/assets/colab-badge.svg\" alt=\"Open In Colab\"/></a>"
      ]
    },
    {
      "cell_type": "code",
      "execution_count": 1,
      "metadata": {
        "colab": {
          "base_uri": "https://localhost:8080/"
        },
        "id": "34fXvT_Cep0C",
        "outputId": "a7e50051-0fd6-4318-a979-2cd8d3bff75b"
      },
      "outputs": [
        {
          "output_type": "stream",
          "name": "stdout",
          "text": [
            "[1, 3, 6, 10]\n"
          ]
        }
      ],
      "source": [
        "a=[1,2,3,4,]\n",
        "b=[sum(a[0:x+1]) for x in range (0,len(a))]\n",
        "print(b)"
      ]
    },
    {
      "cell_type": "code",
      "source": [
        "data=[10,20,30,40,50]\n",
        "data.pop()\n",
        "print(data)\n",
        "data.pop(2)\n",
        "print(data)"
      ],
      "metadata": {
        "colab": {
          "base_uri": "https://localhost:8080/"
        },
        "id": "f8_DN7FmgfeT",
        "outputId": "ca1056e4-d598-4d92-a640-0204004285f5"
      },
      "execution_count": null,
      "outputs": [
        {
          "output_type": "stream",
          "name": "stdout",
          "text": [
            "[10, 20, 30, 40]\n",
            "[10, 20, 40]\n"
          ]
        }
      ]
    },
    {
      "cell_type": "code",
      "source": [
        "print ([i.lower() for i in \"TURING\"])"
      ],
      "metadata": {
        "colab": {
          "base_uri": "https://localhost:8080/"
        },
        "id": "whrJlE_NgzJH",
        "outputId": "1d3d7a25-ff4f-41c9-ca57-76b9591cde42"
      },
      "execution_count": null,
      "outputs": [
        {
          "output_type": "stream",
          "name": "stdout",
          "text": [
            "['t', 'u', 'r', 'i', 'n', 'g']\n"
          ]
        }
      ]
    },
    {
      "cell_type": "code",
      "source": [
        "def f(x, l=[]):\n",
        "  for i in range (x):\n",
        "      l.appeend(i*i)\n",
        "  print (l)\n",
        "  f(2)\n",
        "  f(3,[3,2,1])\n",
        "  f(3)"
      ],
      "metadata": {
        "id": "9mTrDeaghElM"
      },
      "execution_count": null,
      "outputs": []
    },
    {
      "cell_type": "code",
      "source": [
        "class welcome: \n",
        "\n",
        "def_init_(self, name):\n",
        "  self.name =name\n",
        "  def say_hello(self):\n",
        "    print('Welcome to', self.name)\n",
        "    cw=Welcome ('Turing')\n",
        "    cw.say_hello()"
      ],
      "metadata": {
        "colab": {
          "base_uri": "https://localhost:8080/",
          "height": 134
        },
        "id": "rzwtvy3ahxts",
        "outputId": "56337de8-2593-4387-80c2-24a74cbd2256"
      },
      "execution_count": null,
      "outputs": [
        {
          "output_type": "error",
          "ename": "IndentationError",
          "evalue": "ignored",
          "traceback": [
            "\u001b[0;36m  File \u001b[0;32m\"<ipython-input-16-c592a5d1c4a3>\"\u001b[0;36m, line \u001b[0;32m3\u001b[0m\n\u001b[0;31m    def_init_(self, name):\u001b[0m\n\u001b[0m            ^\u001b[0m\n\u001b[0;31mIndentationError\u001b[0m\u001b[0;31m:\u001b[0m expected an indented block\n"
          ]
        }
      ]
    },
    {
      "cell_type": "code",
      "source": [
        "alphabets= 'abcd'\n",
        "for i in range (len(alphabets)):\n",
        "    alphabets[i].upper()\n",
        "\n",
        "print(alphabets)"
      ],
      "metadata": {
        "colab": {
          "base_uri": "https://localhost:8080/"
        },
        "id": "QEcCPjknjKas",
        "outputId": "9494309e-be9d-48f1-c0bb-e6263e2bec6a"
      },
      "execution_count": null,
      "outputs": [
        {
          "output_type": "stream",
          "name": "stdout",
          "text": [
            "abcd\n"
          ]
        }
      ]
    },
    {
      "cell_type": "code",
      "source": [
        "import re\n",
        "result = re. findall ('Wlecome to Turing', 'Welcome', 1)\n",
        "print(result)"
      ],
      "metadata": {
        "colab": {
          "base_uri": "https://localhost:8080/"
        },
        "id": "wKEqaNUPjo1Y",
        "outputId": "0b6e2789-6cfc-488e-a97f-7de5ad060b62"
      },
      "execution_count": null,
      "outputs": [
        {
          "output_type": "stream",
          "name": "stdout",
          "text": [
            "[]\n"
          ]
        }
      ]
    },
    {
      "cell_type": "code",
      "source": [
        "class hello;\n",
        "def"
      ],
      "metadata": {
        "id": "TYbXBBLgkU_6"
      },
      "execution_count": null,
      "outputs": []
    },
    {
      "cell_type": "code",
      "source": [
        "l= [1,2,3,4,5]\n",
        "m = map(lambda x:2**x,l)\n",
        "print(list(m))"
      ],
      "metadata": {
        "colab": {
          "base_uri": "https://localhost:8080/"
        },
        "id": "cqt01oPJk17W",
        "outputId": "93fc2bc1-f88f-47e6-e826-e64dcc5ffb15"
      },
      "execution_count": null,
      "outputs": [
        {
          "output_type": "stream",
          "name": "stdout",
          "text": [
            "[2, 4, 8, 16, 32]\n"
          ]
        }
      ]
    },
    {
      "cell_type": "code",
      "source": [
        "d= [1,2,3,4]\n",
        "def incr (x):\n",
        " return x+1\n",
        " print(list(map(incr, d)))"
      ],
      "metadata": {
        "id": "KwUzY7EZlHG_"
      },
      "execution_count": null,
      "outputs": []
    },
    {
      "cell_type": "code",
      "source": [
        "'The {} side {1} {2}' .format ('bright', 'of', 'life')"
      ],
      "metadata": {
        "colab": {
          "base_uri": "https://localhost:8080/",
          "height": 171
        },
        "id": "OjIAU45Cl5Fh",
        "outputId": "64d3b94b-e8ec-4d0a-f4d7-aae962f357aa"
      },
      "execution_count": null,
      "outputs": [
        {
          "output_type": "error",
          "ename": "ValueError",
          "evalue": "ignored",
          "traceback": [
            "\u001b[0;31m---------------------------------------------------------------------------\u001b[0m",
            "\u001b[0;31mValueError\u001b[0m                                Traceback (most recent call last)",
            "\u001b[0;32m<ipython-input-27-39ac195d5611>\u001b[0m in \u001b[0;36m<module>\u001b[0;34m()\u001b[0m\n\u001b[0;32m----> 1\u001b[0;31m \u001b[0;34m'The {} side {1} {2}'\u001b[0m \u001b[0;34m.\u001b[0m\u001b[0mformat\u001b[0m \u001b[0;34m(\u001b[0m\u001b[0;34m'bright'\u001b[0m\u001b[0;34m,\u001b[0m \u001b[0;34m'of'\u001b[0m\u001b[0;34m,\u001b[0m \u001b[0;34m'life'\u001b[0m\u001b[0;34m)\u001b[0m\u001b[0;34m\u001b[0m\u001b[0;34m\u001b[0m\u001b[0m\n\u001b[0m",
            "\u001b[0;31mValueError\u001b[0m: cannot switch from automatic field numbering to manual field specification"
          ]
        }
      ]
    },
    {
      "cell_type": "code",
      "source": [
        "print (\"Welcome to TURING\". capitalize())"
      ],
      "metadata": {
        "colab": {
          "base_uri": "https://localhost:8080/"
        },
        "id": "-pJsjZKvmP1z",
        "outputId": "10e17252-9eff-4f4b-bc17-1af62c6a902e"
      },
      "execution_count": null,
      "outputs": [
        {
          "output_type": "stream",
          "name": "stdout",
          "text": [
            "Welcome to turing\n"
          ]
        }
      ]
    },
    {
      "cell_type": "code",
      "source": [
        "inputs = ['nodejs', 'reactjs,'vuejs']\n",
        "print(inputs)\n",
        "\n",
        "\n",
        "for i in inputs:\n",
        "    inputs.append(i.upper())\n",
        "print (inputs)"
      ],
      "metadata": {
        "colab": {
          "base_uri": "https://localhost:8080/",
          "height": 130
        },
        "id": "_ySlFnIPmfGh",
        "outputId": "6f19cd71-b162-46c3-dd94-22888f042dea"
      },
      "execution_count": 2,
      "outputs": [
        {
          "output_type": "error",
          "ename": "SyntaxError",
          "evalue": "ignored",
          "traceback": [
            "\u001b[0;36m  File \u001b[0;32m\"<ipython-input-2-75c1d04e2b0d>\"\u001b[0;36m, line \u001b[0;32m1\u001b[0m\n\u001b[0;31m    inputs = ['nodejs', 'reactjs,'vuejs']\u001b[0m\n\u001b[0m                                      ^\u001b[0m\n\u001b[0;31mSyntaxError\u001b[0m\u001b[0;31m:\u001b[0m invalid syntax\n"
          ]
        }
      ]
    },
    {
      "cell_type": "code",
      "source": [
        "array= ['Welcome','To','Turing']\n",
        "print(\"-\".join(array))"
      ],
      "metadata": {
        "colab": {
          "base_uri": "https://localhost:8080/"
        },
        "id": "pGS-D5CbnDbB",
        "outputId": "15338191-cf82-407f-c975-4d3448a1872f"
      },
      "execution_count": null,
      "outputs": [
        {
          "output_type": "stream",
          "name": "stdout",
          "text": [
            "Welcome-To-Turing\n"
          ]
        }
      ]
    },
    {
      "cell_type": "markdown",
      "source": [
        ""
      ],
      "metadata": {
        "id": "7HaESOP8gfS2"
      }
    },
    {
      "cell_type": "code",
      "source": [
        "print(2**(3**2), (2**3)**2, (2**3)**3)"
      ],
      "metadata": {
        "colab": {
          "base_uri": "https://localhost:8080/"
        },
        "id": "3Zbx1n2In38P",
        "outputId": "4f7eab83-8faa-43e5-88e7-3c485194dd63"
      },
      "execution_count": null,
      "outputs": [
        {
          "output_type": "stream",
          "name": "stdout",
          "text": [
            "512 64 512\n"
          ]
        }
      ]
    }
  ]
}